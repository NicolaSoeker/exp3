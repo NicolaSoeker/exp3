{
 "cells": [
  {
   "cell_type": "markdown",
   "metadata": {},
   "source": [
    "## Fabry Perot Interferometer"
   ]
  },
  {
   "cell_type": "markdown",
   "metadata": {},
   "source": [
    "We will now have a look at some applications of the multiwave interference also with changing amplitude. One of the is the Fabry-Perot interferometer, which essentially consists of two mirrors, which are brought to a distance $d$ as shown below. "
   ]
  },
  {
   "cell_type": "markdown",
   "metadata": {},
   "source": [
    "|<img src=\"img/fabry_perot.png\" width=\"50%\">|\n",
    "|-|\n",
    "| **Fig.:** Fabry-Perot Interferometer.|"
   ]
  },
  {
   "cell_type": "markdown",
   "metadata": {},
   "source": [
    "If light enters the Fabry Perot interferometer with an amplitude $A_0$. It is transmitted with a reduced amplitude. The initial amplitude has to be multiplied with the transmission factor $t_1$. It travels further until it hits the sescond mirror, where it is reflected and transmitted as well. The reduced amplitude due to reflection is expressed by $r_2$, while the transmission is introducing another factor $t_2$. \n",
    "This means that the first transmitted wave has the amplitude \n",
    "\n",
    "$$\n",
    "U_1=A_0t_1 t_2\n",
    "$$\n",
    "\n",
    "The second transmitted wave now has a decreased amplitude as compared to the first one and reads\n",
    "\n",
    "$$\n",
    "U_2=A_0t_1 t_2 r_1 r_2 e^{i\\phi}=U_1 r_1 r_2 e^{i\\phi}\n",
    "$$\n",
    "\n",
    "We could now continue like that, but we see already at this point the similarity to the multiwave interference with decreasing amplitude we have talked about in the last lecture. We would observe interference of all transmitted waves  \n",
    "\n",
    "We just have to insert the corresponding expression, i.e. $\\sqrt{I_0}=A_0 t_1 t_2$ and $h=r_1r_2e^{i\\phi}$ or $r=r_1 r_2$. We may even insert the phase shift \n",
    "\n",
    "$$\n",
    "\\phi=\\frac{2\\pi}{\\lambda} \\Delta s = \\frac{2\\pi}{\\lambda} 2d\\cos(\\theta)\n",
    "$$"
   ]
  },
  {
   "cell_type": "markdown",
   "metadata": {},
   "source": [
    "Our final formula would thus look like \n",
    "\n",
    "$$\n",
    "I=|U|^2=\\frac{I_{0}}{|1-re^{i\\phi}|^2}=\\frac{I_0}{(1-r)^2+4r\\sin^2\\left (\\frac{2\\pi}{\\lambda} d\\cos(\\theta)\\right)}\n",
    "$$\n",
    "\n",
    "and gives now the intensity as calculated during the last lecture."
   ]
  },
  {
   "cell_type": "markdown",
   "metadata": {},
   "source": [
    "|<img src=\"img/perot.png\" width=\"60%\">|\n",
    "|-|\n",
    "| **Fig.:** Fabry Perot Interferometer.|"
   ]
  },
  {
   "cell_type": "markdown",
   "metadata": {},
   "source": [
    "Yet, we know now that $r=r_1 r_2$ is the factor by which the amplitude decreases, which also enters the Finesse\n",
    "\n",
    "$$\n",
    "\\mathcal{F}=\\frac{\\pi \\sqrt{r}}{1-r}\n",
    "$$\n",
    "\n",
    "The better the reflectivity of the mirrors (which means $r\\rightarrow 1$), the higher is the Finess and the sharper are the interference peaks observed in the Fabry-Perot interferometer."
   ]
  },
  {
   "cell_type": "markdown",
   "metadata": {},
   "source": [
    "Let us discuss the form of the interference peeks and the distance a bit more in detail. We have plotted so far the intensity as a function of the phase angle $\\phi$. This phase angle is given by\n",
    "\n",
    "$$\n",
    "\\phi=\\frac{4\\pi d}{\\lambda}\\cos(\\theta)\n",
    "$$\n",
    "\n",
    "We would like to have a look at the transmission in the case of normal incidence $\\theta=0$, so that $\\phi=4\\pi d/\\lambda$. To obtain constructive interference in transmission, the phase angle needs to be an integer multiple of $2\\pi$, i.e. $\\phi=m 2\\pi$. This means that for a given thickness $d$ and a specific integer value $m$, the transmission is maximum for \n",
    "\n",
    "$$\n",
    "\\lambda_m=\\frac{2d}{m}\n",
    "$$\n",
    "\n",
    "We may then calculate the distance of the constructive interference maxima for neighboring values of the interference order $m$. A quick calculation gives\n",
    "\n",
    "$$\n",
    "\\delta \\lambda= \\lambda_{m}-\\lambda_{m+1}=\\frac{\\lambda_m}{m+1}\n",
    "$$\n",
    "\n",
    "We may also do the calculation in the frequency space. A wavelength $\\lambda_m$ corresponds via the relation $\\nu=c/\\lambda$ to $\\nu_m=\\frac{c\\, m}{2d}$.\n",
    "The difference between neighboring frequencies is then\n",
    "\n",
    "$$\n",
    "\\delta \\nu=\\nu_{m+1}-\\nu_m=\\frac{c}{2d}\n",
    "$$\n",
    "\n",
    "This quantity $\\delta \\nu$ or $\\delta \\lambda$ is called **free spectral range** as it indicates the \"space\" we have until the next frequency delivers a constructive interference maximum for the next integer $m$. In this range, we would like to resolve two different frequencies. So let us assume we would like to resolve two frequencies $\\nu_a$ and $\\nu_b$ with the same order of the interference $m$, then we have to find a criterium, that tells us, that we can still seperate the two frequencies. We use as a measure the width of the individual peaks.\n",
    "We measure the width as the full width at half maximum (FWHM), this means, we look for the phase angle $\\phi_{1/2}$ at which we have $I/I_{\\rm max}=1/2$, i.e.\n",
    "\n",
    "$$\n",
    "\\frac{I}{I_{\\rm max}}=\\frac{1}{2}=\\frac{1}{1+\\left( \\frac{\\mathcal{F}}{\\pi}\\right )^2\\phi^{2}_{1/2} }\n",
    "$$\n",
    "\n",
    "using the small angle approximation $\\sin(\\phi)\\approx\\phi$.This results in an angle $\\phi_{1/2}= \\frac{\\pi}{\\mathcal{F}}$ for the half width. The full width is thus twice this values, i.e. $2\\frac{\\pi}{\\mathcal{F}}$. This full width corresponds also to a width in frequency space $\\Delta \\nu$, which with our conversion formula $\\phi=4\\pi\\nu d/c$ yields\n",
    "\n",
    "$$\n",
    "\\Delta \\nu=\\frac{c}{2d\\mathcal{F}}=\\frac{\\delta \\nu}{\\mathcal{F}}\n",
    "$$\n",
    "\n",
    "This actually directly gives a definition for the Finesse.\n",
    "\n",
    "$$\n",
    "\\mathcal{F}=\\frac{\\delta \\nu}{\\Delta \\nu}=\\frac{\\lambda}{\\delta \\lambda}\n",
    "$$\n",
    "\n",
    "This means that the Finesse gives us a measure for the spectral resolution of a Fabry-Perot-Interferometer. It tells us by how much the free spectral range $\\delta \\nu $ is bigger than the width $\\Delta \\nu$ of the interference maximum.\n",
    "\n",
    "More generally this is measured by the resolving power $\\mathcal{R}$, which is given for the Fabry-Perot-Interferometer\n",
    "\n",
    "$$\n",
    "R=m\\mathcal{F}\n",
    "$$\n",
    "\n",
    "where $m$ is again the interference order $m$, we defined above.\n"
   ]
  },
  {
   "cell_type": "markdown",
   "metadata": {},
   "source": [
    "|<img src=\"img/perot_spectral.png\" width=\"60%\">|\n",
    "|-|\n",
    "| **Fig.:** Fabry Perot Interferometer.|"
   ]
  },
  {
   "cell_type": "markdown",
   "metadata": {},
   "source": [
    "|<img src=\"img/fabry_perot_lecture1.png\" width=\"40%\"> <img src=\"img/fabry_perot_lecture2.png\" width=\"40%\">|\n",
    "|-|\n",
    "| **Fig.:** Fabry Perot Interferometer and interferebnce pattern observed in the lecture .|"
   ]
  },
  {
   "cell_type": "markdown",
   "metadata": {},
   "source": [
    "## Newton Rings"
   ]
  },
  {
   "cell_type": "markdown",
   "metadata": {},
   "source": [
    "|<img src=\"img/newton_rings_lecture.png\" width=\"80%\">|\n",
    "|-|\n",
    "| **Fig.:** Observation of Newton Rings using white light in the lecture.|"
   ]
  },
  {
   "cell_type": "markdown",
   "metadata": {},
   "source": [
    "### Bragg reflection"
   ]
  },
  {
   "cell_type": "markdown",
   "metadata": {},
   "source": [
    "The Bragg reflection is a typical example in which we assume that the amplitude of the waves interfering is constant. Remember the image below, which we already discussed in the previous lecture\n",
    "\n",
    "\n",
    "|<img src=\"img/Bragg_reflection.png\" width=\"50%\"> |\n",
    "|-|\n",
    "| **Fig.:** Bragg reflection.|\n",
    "\n",
    "We obtained earlier, that constructive interference will occur if the path difference of neighboring waves in just an integer multiple of the wavelength $\\Delta s=m\\lambda$\n"
   ]
  },
  {
   "cell_type": "markdown",
   "metadata": {},
   "source": [
    "The image below shows the experiment from the lecture, where we had a stack of acrylic sheets, with constant separation. A microwave is incident to the stack. Each sheet is reflecting a tiny fraction of the wave so that the transmitted wave by a sheet is almost the original one.\n",
    "\n",
    "|<img src=\"img/multi_wave_lecture.png\" width=\"40%\">  <img src=\"img/butterfly_lecture.png\" width=\"40%\">|\n",
    "|-|\n",
    "| **Fig.:** Microwave reflection from a stack of acrylic glass sheets. Butterfly wing reflection corresponding to a 3D Bragg reflection from a complex structured dielectric lattice.|"
   ]
  },
  {
   "cell_type": "markdown",
   "metadata": {},
   "source": [
    "## Anti-Reflection Coating"
   ]
  }
 ],
 "metadata": {
  "kernelspec": {
   "display_name": "Python 3",
   "language": "python",
   "name": "python3"
  },
  "language_info": {
   "codemirror_mode": {
    "name": "ipython",
    "version": 3
   },
   "file_extension": ".py",
   "mimetype": "text/x-python",
   "name": "python",
   "nbconvert_exporter": "python",
   "pygments_lexer": "ipython3",
   "version": "3.8.5"
  },
  "toc-autonumbering": false,
  "toc-showmarkdowntxt": false,
  "toc-showtags": false
 },
 "nbformat": 4,
 "nbformat_minor": 4
}
