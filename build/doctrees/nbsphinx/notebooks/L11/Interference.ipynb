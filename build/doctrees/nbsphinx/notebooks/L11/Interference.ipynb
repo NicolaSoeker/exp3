{
 "cells": [
  {
   "cell_type": "markdown",
   "metadata": {},
   "source": [
    "## Fabry Perot Interferometer"
   ]
  },
  {
   "cell_type": "markdown",
   "metadata": {},
   "source": [
    "We will now have a look at some applications of the multiwave interference also with changing amplitude. One of the is the Fabry-Perot interferometer, which essentially consists of two mirrors, which are brought to a distance $d$ as shown below. "
   ]
  },
  {
   "cell_type": "markdown",
   "metadata": {},
   "source": [
    "|<img src=\"img/fabry_perot.png\" width=\"60%\">|\n",
    "|-|\n",
    "| **Fig.:** Fabry-Perot Interferometer.|"
   ]
  },
  {
   "cell_type": "markdown",
   "metadata": {},
   "source": [
    "If light enters the Fabry Perot interferometer with an amplitude $A_0$. It is transmitted with a reduced amplitude. The initial amplitude has to be multiplied with the transmission factor $t_1$. It travels further until it hits the sescond mirror, where it is reflected and transmitted as well. The reduced amplitude due to reflection is expressed by $r_2$, while the transmission is introducing another factor $t_2$. \n",
    "This means that the first transmitted wave has the amplitude \n",
    "\n",
    "$$\n",
    "U_1=A_0t_1 t_2\n",
    "$$\n",
    "\n",
    "The second transmitted wave now has a decreased amplitude as compared to the first one and reads\n",
    "\n",
    "$$\n",
    "U_2=A_0t_1 t_2 r_1 r_2 e^{i\\phi}=U_1 r_1 r_2 e^{i\\phi}\n",
    "$$\n",
    "\n",
    "We could now continue like that, but we see already at this point the similarity to the multiwave interference with decreasing amplitude we have talked about in the last lecture. We would observe interference of all transmitted waves  \n",
    "\n",
    "We just have to insert the corresponding expression, i.e. $\\sqrt{I_0}=A_0 t_1 t_2$ and $h=r_1r_2e^{i\\phi}$ or $r=r_1 r_2$. We may even insert the phase shift \n",
    "\n",
    "$$\n",
    "\\phi=\\frac{2\\pi}{\\lambda} \\Delta s = \\frac{2\\pi}{\\lambda} 2d\\cos(\\theta)\n",
    "$$"
   ]
  },
  {
   "cell_type": "markdown",
   "metadata": {},
   "source": [
    "Our final formula would thus look like \n",
    "\n",
    "$$\n",
    "I=|U|^2=\\frac{I_{0}}{|1-re^{i\\phi}|^2}=\\frac{I_0}{(1-r)^2+4r\\sin^2\\left (\\frac{2\\pi}{\\lambda} d\\cos(\\theta)\\right)}\n",
    "$$\n",
    "\n",
    "and gives now the intensity as calculated during the last lecture."
   ]
  },
  {
   "cell_type": "markdown",
   "metadata": {},
   "source": [
    "|<img src=\"img/perot.png\" width=\"60%\">|\n",
    "|-|\n",
    "| **Fig.:** Fabry Perot Interferometer.|"
   ]
  },
  {
   "cell_type": "markdown",
   "metadata": {},
   "source": [
    "Yet, we know now that $r=r_1 r_2$ is the factor by which the amplitude decreases, which also enters the Finesse\n",
    "\n",
    "$$\n",
    "\\mathcal{F}=\\frac{\\pi \\sqrt{r}}{1-r}\n",
    "$$\n",
    "\n",
    "The better the reflectivity of the mirrors (which means $r\\rightarrow 1$), the higher is the Finess and the sharper are the interference peaks observed in the Fabry-Perot interferometer."
   ]
  },
  {
   "cell_type": "markdown",
   "metadata": {},
   "source": [
    "Let us discuss the form of the interference peeks and the distance a bit more in detail. "
   ]
  },
  {
   "cell_type": "markdown",
   "metadata": {},
   "source": [
    "|<img src=\"img/perot_spectral.png\" width=\"40%\">|\n",
    "|-|\n",
    "| **Fig.:** Fabry Perot Interferometer.|"
   ]
  },
  {
   "cell_type": "markdown",
   "metadata": {},
   "source": [
    "## Newton Rings"
   ]
  },
  {
   "cell_type": "markdown",
   "metadata": {},
   "source": [
    "## Anti-Reflection Coating"
   ]
  },
  {
   "cell_type": "markdown",
   "metadata": {},
   "source": [
    "### Bragg reflection"
   ]
  },
  {
   "cell_type": "markdown",
   "metadata": {},
   "source": [
    "The Bragg reflection is a typical example in which we assume that the amplitude of the waves interfering is constant. Yet, there might by also situations where this is not true. So Bragg reflections could be both. \n",
    "\n",
    "The image below shows the experiment from the lecture, where we had a stack of acrylic sheets, with constant separation. A microwave is incident to the stack. Each sheet is reflecting a tiny fraction of the wave so that the transmitted wave by a sheet is almost the original one."
   ]
  },
  {
   "cell_type": "markdown",
   "metadata": {},
   "source": [
    "|<img src=\"img/multi_wave_lecture.png\" width=\"40%\">  <img src=\"img/butterfly_lecture.png\" width=\"40%\">|\n",
    "|-|\n",
    "| **Fig.:** Microwave reflection from a stack of acrylic glass sheets. Butterfly wing reflection corresponding to a 3D Bragg reflection from a complex structured dielectric lattice.|"
   ]
  },
  {
   "cell_type": "code",
   "execution_count": null,
   "metadata": {},
   "outputs": [],
   "source": []
  }
 ],
 "metadata": {
  "kernelspec": {
   "display_name": "Python 3",
   "language": "python",
   "name": "python3"
  },
  "language_info": {
   "codemirror_mode": {
    "name": "ipython",
    "version": 3
   },
   "file_extension": ".py",
   "mimetype": "text/x-python",
   "name": "python",
   "nbconvert_exporter": "python",
   "pygments_lexer": "ipython3",
   "version": "3.8.5"
  },
  "toc-autonumbering": false,
  "toc-showmarkdowntxt": false,
  "toc-showtags": false
 },
 "nbformat": 4,
 "nbformat_minor": 4
}
