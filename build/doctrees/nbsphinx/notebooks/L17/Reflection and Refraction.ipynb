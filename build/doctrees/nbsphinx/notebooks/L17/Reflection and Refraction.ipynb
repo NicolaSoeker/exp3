{
 "cells": [
  {
   "cell_type": "markdown",
   "metadata": {},
   "source": [
    "# Reflection and Refraction of Electromagnetic Waves"
   ]
  },
  {
   "cell_type": "markdown",
   "metadata": {},
   "source": [
    "<style>\n",
    "figure {\n",
    "  border: 1px #cccccc solid;\n",
    "  padding: 4px; \n",
    "  display: block;\n",
    "  margin-left: auto;\n",
    "  margin-right: auto;\n",
    "}\n",
    "\n",
    "figcaption {\n",
    "  background-color: #eeeeee;\n",
    "  color: black;\n",
    "  padding: 2px;\n",
    "}\n",
    "</style>"
   ]
  },
  {
   "cell_type": "markdown",
   "metadata": {},
   "source": [
    "<figure>\n",
    "      <img src=\"img/setup_k.png\" width=\"40%\">\n",
    "  <figcaption>**Fig.:** Polarization of an electric cloud of an atom.\n",
    "  </figcaption>\n",
    "</figure>"
   ]
  },
  {
   "cell_type": "markdown",
   "metadata": {},
   "source": [
    "$$\n",
    "\\vec{E}_{\\rm inc}=\\vec{E}_I e^{i(\\omega_I t -\\vec{k}_I\\cdot \\vec{r})}\n",
    "$$\n",
    "\n",
    "$$\n",
    "\\vec{E}_{\\rm ref}=\\vec{E}_R e^{i(\\omega_R t -\\vec{k}_R\\cdot \\vec{r})}\n",
    "$$\n",
    "\n",
    "$$\n",
    "\\vec{E}_{\\rm tra}=\\vec{E}_T e^{i(\\omega_T t -\\vec{k}_T\\cdot \\vec{r})}\n",
    "$$\n"
   ]
  },
  {
   "cell_type": "markdown",
   "metadata": {},
   "source": [
    "<figure>\n",
    "      <img src=\"img/pol_decomp.png\" width=\"70%\">\n",
    "  <figcaption>**Fig.:** Polarization of an electric cloud of an atom.\n",
    "  </figcaption>\n",
    "</figure>"
   ]
  },
  {
   "cell_type": "markdown",
   "metadata": {},
   "source": [
    "## Boundary Condition"
   ]
  },
  {
   "cell_type": "markdown",
   "metadata": {},
   "source": [
    "<figure>\n",
    "      <img src=\"img/boundary.png\" width=\"70%\">\n",
    "  <figcaption>**Fig.:** Polarization of an electric cloud of an atom.\n",
    "  </figcaption>\n",
    "</figure>"
   ]
  },
  {
   "cell_type": "markdown",
   "metadata": {},
   "source": [
    "## Reflection/Refraction"
   ]
  },
  {
   "cell_type": "markdown",
   "metadata": {},
   "source": [
    "### Frequency and Wavevector Matching"
   ]
  },
  {
   "cell_type": "markdown",
   "metadata": {},
   "source": [
    "### Field Amplitude Matching"
   ]
  },
  {
   "cell_type": "code",
   "execution_count": null,
   "metadata": {},
   "outputs": [],
   "source": []
  }
 ],
 "metadata": {
  "kernelspec": {
   "display_name": "Python 3",
   "language": "python",
   "name": "python3"
  },
  "language_info": {
   "codemirror_mode": {
    "name": "ipython",
    "version": 3
   },
   "file_extension": ".py",
   "mimetype": "text/x-python",
   "name": "python",
   "nbconvert_exporter": "python",
   "pygments_lexer": "ipython3",
   "version": "3.8.5"
  },
  "toc-autonumbering": true,
  "toc-showmarkdowntxt": false,
  "toc-showtags": false
 },
 "nbformat": 4,
 "nbformat_minor": 4
}
