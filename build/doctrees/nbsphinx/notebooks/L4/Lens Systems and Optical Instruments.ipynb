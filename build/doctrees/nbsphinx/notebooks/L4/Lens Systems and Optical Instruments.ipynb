{
 "cells": [
  {
   "cell_type": "markdown",
   "metadata": {},
   "source": [
    "## Lens Systems and Optical Instruments"
   ]
  },
  {
   "cell_type": "markdown",
   "metadata": {},
   "source": [
    "### Lens Systems"
   ]
  },
  {
   "cell_type": "markdown",
   "metadata": {},
   "source": [
    "Most of the optical instruments consist of multiple lenses that are used to image objects or to magnify them. They are combined at distances, which are either larger or smaller than the sum of their focal distances. We will consider first a pair of two bi-convex lenses that are at a distance $D>f_1+f_2$m where $f_1$ and $f_2$ are their focal distances. "
   ]
  },
  {
   "cell_type": "markdown",
   "metadata": {},
   "source": [
    "|<img src=\"img/lens_system.png\" width=\"60%\">|\n",
    "|-|\n",
    "| **Fig.:** System of two bi-convex lenses at a distance larger than the sum of their focal distances.|"
   ]
  },
  {
   "cell_type": "markdown",
   "metadata": {},
   "source": [
    "Here the first lens creates an image at a position\n",
    "\n",
    "$$b_1=\\frac{a_1 f_1}{(a_1-f_1)}$$\n",
    "\n",
    "Accordingly the object distance for lens 2 is then $a_2=D-b_1$.\n",
    "\n",
    "The second lens then images this intermediate object into\n",
    "\n",
    "$$b_2=\\frac{a_2 f_2}{a_2-f_2}=\\frac{(D-b_1) f_2}{D-b_1-f_2}$$\n",
    "\n",
    "from which we can obtain after a longer calculation the focal distance of the lens systems\n",
    "\n",
    "\n",
    "$$\\frac{1}{f}=\\frac{1}{f_1}+\\frac{1}{f_2}-\\frac{D}{f_1 f_2}$$"
   ]
  },
  {
   "cell_type": "markdown",
   "metadata": {},
   "source": [
    "Following this equation the inverse of the total focal length of the combined lenses is just the sum of its inverse focal distances minus a term, which depends on the distance of the two lenses. If this distance is small as compared to the focal length, i.e. the lenses are close to each other, the total inverse focal is just given by the first two terms. The inverse focal distances characterize the refractive power of a lens. The larger the invserse value, the smaller is the focal distance. This refractive power is commonly measured in the unit **diopter**. One diopter corresponds to **1 dpt=1 $m^{-1}$**."
   ]
  },
  {
   "cell_type": "markdown",
   "metadata": {},
   "source": [
    "The image above shows also, that in the case of the combined lenses and a real inverted intermediate image, the final image will be upright again.\n",
    "Thus, if the first lens has a magnification $M_1=-b_1/a_1$ and the second lens a magnification $M_2=-b_2/a_2$ the total magnification is the product, which is\n",
    "\n",
    "$$M=\\frac{b_1}{a_1}\\frac{b_2}{a_2}$$\n",
    "\n",
    "from which we may finally obtain with $M=\\frac{f}{f-a}$\n",
    "\n",
    "$$M=\\frac{1}{1-\\frac{a_1}{f_1}-\\frac{a_1+D}{f_2}+\\frac{a_1D}{f_1 f_2}}$$"
   ]
  },
  {
   "cell_type": "markdown",
   "metadata": {},
   "source": [
    "For more than two lenses, there is a versatile framework called **Matrix Optics**, which treats each optical element as a 2x2 matrix. This becomes possible as we derived earlier equations which were linear in $y$ and $\\theta$. A whole system of different lenses, plates and other optical elements can thus be treated as a matrix multiplication, which is quite useful. "
   ]
  },
  {
   "cell_type": "markdown",
   "metadata": {},
   "source": [
    "### Optical Instruments"
   ]
  },
  {
   "cell_type": "markdown",
   "metadata": {},
   "source": [
    "Optical instruments now combine a number of optical elements or even consist only out of a single one as in the case of the magnifying glass or the eye.\n"
   ]
  },
  {
   "cell_type": "markdown",
   "metadata": {},
   "source": [
    "#### The Eye"
   ]
  },
  {
   "cell_type": "markdown",
   "metadata": {},
   "source": [
    "The human eye is certainly one of the most amazing biological sensorial systems, which consists of biologically grown optical elements, like an apeture, a "
   ]
  },
  {
   "cell_type": "markdown",
   "metadata": {},
   "source": [
    "|<img src=\"img/eye.jpeg\" width=\"80%\">|\n",
    "|-|\n",
    "|**Fig.:** Image construction on a biconvex lens with a parallel and a central ray for different object distances.|"
   ]
  },
  {
   "cell_type": "markdown",
   "metadata": {},
   "source": [
    "#### Magnifying Glass"
   ]
  },
  {
   "cell_type": "markdown",
   "metadata": {},
   "source": [
    "#### Telescope"
   ]
  },
  {
   "cell_type": "markdown",
   "metadata": {},
   "source": [
    "#### Microscope"
   ]
  }
 ],
 "metadata": {
  "kernelspec": {
   "display_name": "Python 3",
   "language": "python",
   "name": "python3"
  },
  "language_info": {
   "codemirror_mode": {
    "name": "ipython",
    "version": 3
   },
   "file_extension": ".py",
   "mimetype": "text/x-python",
   "name": "python",
   "nbconvert_exporter": "python",
   "pygments_lexer": "ipython3",
   "version": "3.8.5"
  }
 },
 "nbformat": 4,
 "nbformat_minor": 4
}
