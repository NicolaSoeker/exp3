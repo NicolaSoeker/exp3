{
 "cells": [
  {
   "cell_type": "markdown",
   "metadata": {},
   "source": [
    "## EXP3 Snippets - Refraction Explorer"
   ]
  },
  {
   "cell_type": "markdown",
   "metadata": {},
   "source": [
    "This is a small python code snippet, which you can explore on the *myBinder* service with the button on the top of this webpage. It shows the the refraction of a light ray (red) incident to an interface (horizontal line), which is then refracted. The interface is seperating two areas with different refractive index $n_1, n_2$, which you can modify with the sliders in the same way as the incident angle. The refractive index $n_2$ may even go negative and you may want to explore what happens then.\n",
    "\n",
    "(c) F. Cichos 2020"
   ]
  },
  {
   "cell_type": "code",
   "execution_count": 1,
   "metadata": {},
   "outputs": [],
   "source": [
    "%matplotlib widget\n",
    "import ipywidgets as widgets\n",
    "import matplotlib.pyplot as plt\n",
    "import numpy as np"
   ]
  },
  {
   "cell_type": "code",
   "execution_count": 4,
   "metadata": {},
   "outputs": [],
   "source": [
    "def magnitude(vector):\n",
    "   return np.sqrt(np.dot(np.array(vector),np.array(vector)))\n",
    "\n",
    "def norm(vector):\n",
    "   return np.array(vector)/magnitude(np.array(vector))\n",
    "\n",
    "def lineRayIntersectionPoint(rayOrigin, rayDirection, point1, point2):\n",
    "        # Convert to numpy arrays\n",
    "    rayOrigin = np.array(rayOrigin, dtype=np.float)\n",
    "    rayDirection = np.array(norm(rayDirection), dtype=np.float)\n",
    "    point1 = np.array(point1, dtype=np.float)\n",
    "    point2 = np.array(point2, dtype=np.float)\n",
    "\n",
    "    # Ray-Line Segment Intersection Test in 2D\n",
    "    # http://bit.ly/1CoxdrG\n",
    "    v1 = rayOrigin - point1\n",
    "    v2 = point2 - point1\n",
    "    v3 = np.array([-rayDirection[1], rayDirection[0]])\n",
    "    t1 = np.cross(v2, v1) / np.dot(v2, v3)\n",
    "    t2 = np.dot(v1, v3) / np.dot(v2, v3)\n",
    "    if t1 >= 0.0 and t2 >= 0.0 and t2 <= 1.0:\n",
    "        return [rayOrigin + t1 * rayDirection]\n",
    "    return []\n",
    "\n"
   ]
  },
  {
   "cell_type": "code",
   "execution_count": 2,
   "metadata": {},
   "outputs": [
    {
     "data": {
      "application/vnd.jupyter.widget-view+json": {
       "model_id": "08ba3083fc4c4a809b8f86418f3fb151",
       "version_major": 2,
       "version_minor": 0
      },
      "text/plain": [
       "Canvas(toolbar=Toolbar(toolitems=[('Home', 'Reset original view', 'home', 'home'), ('Back', 'Back to previous …"
      ]
     },
     "metadata": {},
     "output_type": "display_data"
    },
    {
     "data": {
      "application/vnd.jupyter.widget-view+json": {
       "model_id": "11c661a38d1049b49ae840a2e1ee39cb",
       "version_major": 2,
       "version_minor": 0
      },
      "text/plain": [
       "interactive(children=(FloatSlider(value=1.0, description='n1', max=2.0, min=1.0, step=0.01), FloatSlider(value…"
      ]
     },
     "metadata": {},
     "output_type": "display_data"
    }
   ],
   "source": [
    "fig, ax = plt.subplots(figsize=(4, 4))\n",
    "fig.canvas.header_visible = False\n",
    " \n",
    "@widgets.interact(n1=(1,2,0.01),n2=(-2,3,0.01), phi=(0, 90, 0.1))\n",
    "def update(n1=1,n2=1.5,phi=45):\n",
    "    \"\"\"Remove old lines from plot and plot new one\"\"\"\n",
    "    ax.cla()\n",
    "    theta1=phi*np.pi/180\n",
    "    if n1*np.sin(theta1)/n2<=1:\n",
    "        theta2=np.arcsin(n1*np.sin(theta1)/n2)\n",
    "    else:\n",
    "        theta2=-theta1+np.pi\n",
    "    ax.set_title(\"Refraction Explorer\")    \n",
    "    ax.axvline(x=0,ls='--')\n",
    "    ax.text(-0.04,0.04,r'$n_2$={}'.format(n2))\n",
    "    ax.text(-0.04,-0.04,r'$n_1$={}'.format(n1))\n",
    "    ax.text(0.03,0.04,r'$\\theta_2$={}'.format(round(theta2*180/np.pi),1))\n",
    "    ax.text(0.03,-0.04,r'$\\theta_1$={}'.format(round(theta1*180/np.pi),1))\n",
    "\n",
    "\n",
    "    ax.axhline(y=0,color='k',lw=0.5)\n",
    "    ax.quiver(0,0,np.sin(theta1),np.cos(theta1),scale=3,pivot='tip' ,color='red')\n",
    "    ax.quiver(0,0,np.sin(theta2),np.cos(theta2),scale=3,color='blue')\n"
   ]
  },
  {
   "cell_type": "markdown",
   "metadata": {},
   "source": [
    "![refraction](img/refraction_explorer.png)"
   ]
  },
  {
   "cell_type": "code",
   "execution_count": null,
   "metadata": {},
   "outputs": [],
   "source": []
  }
 ],
 "metadata": {
  "kernelspec": {
   "display_name": "Python 3",
   "language": "python",
   "name": "python3"
  },
  "language_info": {
   "codemirror_mode": {
    "name": "ipython",
    "version": 3
   },
   "file_extension": ".py",
   "mimetype": "text/x-python",
   "name": "python",
   "nbconvert_exporter": "python",
   "pygments_lexer": "ipython3",
   "version": "3.8.5"
  }
 },
 "nbformat": 4,
 "nbformat_minor": 4
}
