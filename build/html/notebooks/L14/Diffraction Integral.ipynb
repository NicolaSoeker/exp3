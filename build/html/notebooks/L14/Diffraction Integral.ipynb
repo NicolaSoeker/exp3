{
 "cells": [
  {
   "cell_type": "markdown",
   "metadata": {},
   "source": [
    "# Diffraction Integral"
   ]
  },
  {
   "cell_type": "markdown",
   "metadata": {},
   "source": [
    "<style>\n",
    "figure {\n",
    "  border: 1px #cccccc solid;\n",
    "  padding: 4px; \n",
    "  display: block;\n",
    "  margin-left: auto;\n",
    "  margin-right: auto;\n",
    "}\n",
    "\n",
    "figcaption {\n",
    "  background-color: #eeeeee;\n",
    "  color: black;\n",
    "  padding: 2px;\n",
    "}\n",
    "</style>"
   ]
  },
  {
   "cell_type": "markdown",
   "metadata": {},
   "source": [
    "In the last section about Fresnel zones and the zone plate we have considered how different path contribute to the intensity at a point on the optical axis. We would like to generalize this idea to an integral formulation allowing us to calculate any kind of diffraction pattern."
   ]
  },
  {
   "cell_type": "markdown",
   "metadata": {},
   "source": [
    "<figure>\n",
    "      <img src=\"img/sketch.png\" width=\"80%\">\n",
    "  <figcaption>**Fig.:** Diffraction integral.\n",
    "  </figcaption>\n",
    "</figure>"
   ]
  },
  {
   "cell_type": "markdown",
   "metadata": {},
   "source": [
    "Assume we have a light source $S$ as in the image above, which sends out a spherical wave (does not need to be a spherical wave). The spatial amplitude of this wave at the point $P(x,y)$ at a tiny aperture element $d\\sigma$\n",
    "\n",
    "$$\n",
    "U_s(x,y)=U_0(x,y)e^{i\\phi(x,y)}\n",
    "$$\n",
    "\n",
    "where \n",
    "\n",
    "$$\n",
    "U_0=\\frac{A}{R}=\\frac{A}{\\sqrt{g^2+x^2+y^2}}\n",
    "$$\n",
    "\n",
    "and \n",
    "\n",
    "$$\n",
    "\\phi(x,y)=(-k R)\n",
    "$$\n",
    "  \n",
    "This is  the amplitude of the Huygens wave, which eminates from the point $P(x,y)$ to propagate towards the screen at $P(x^{\\prime},y^{\\prime})$. This Huygens wave contributes a fraction of an amplitude $dU_p$ to the total amplitude in point $P(x^{\\prime},y^{\\prime})$, which is given by\n",
    "\n",
    "$$\n",
    "dU_p=C\\frac{U_s d\\sigma}{r}e^{-ikr}\n",
    "$$\n",
    "\n",
    "with $C=i\\cos(\\theta)/\\lambda$ as found in a more detailed calculation."
   ]
  },
  {
   "cell_type": "markdown",
   "metadata": {},
   "source": [
    "The total amplitude at the point $P(x^{\\prime},y^{\\prime})$ is then given by the integral over all contributions.\n",
    "\n",
    "$$\n",
    "U_p=\\iint C U_s\\frac{e^{-ikr}}{r}dx dy\n",
    "$$\n",
    "\n",
    "with $dxdy=d\\sigma$. The integral runs over all positions in the aperature plane $(x,y)$ where we have an opening.\n"
   ]
  }
 ],
 "metadata": {
  "kernelspec": {
   "display_name": "Python 3",
   "language": "python",
   "name": "python3"
  },
  "language_info": {
   "codemirror_mode": {
    "name": "ipython",
    "version": 3
   },
   "file_extension": ".py",
   "mimetype": "text/x-python",
   "name": "python",
   "nbconvert_exporter": "python",
   "pygments_lexer": "ipython3",
   "version": "3.8.5"
  },
  "toc-autonumbering": false,
  "toc-showmarkdowntxt": false,
  "toc-showtags": false
 },
 "nbformat": 4,
 "nbformat_minor": 4
}
