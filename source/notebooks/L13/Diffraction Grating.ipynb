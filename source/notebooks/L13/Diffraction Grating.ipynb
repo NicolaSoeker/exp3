{
 "cells": [
  {
   "cell_type": "markdown",
   "metadata": {},
   "source": [
    "# Diffraction Grating"
   ]
  },
  {
   "cell_type": "markdown",
   "metadata": {},
   "source": [
    "<style>\n",
    "figure {\n",
    "  border: 1px #cccccc solid;\n",
    "  padding: 4px; \n",
    "  display: block;\n",
    "  margin-left: auto;\n",
    "  margin-right: auto;\n",
    "}\n",
    "\n",
    "figcaption {\n",
    "  background-color: #eeeeee;\n",
    "  color: black;\n",
    "  padding: 2px;\n",
    "}\n",
    "</style>"
   ]
  },
  {
   "cell_type": "markdown",
   "metadata": {},
   "source": [
    "We would like to combine now the diffraction on individual slits with the multiple inteference from many slits. Such objects are called **diffraction gratings** and have large importance for spectroscopy but also for the compression of short laser pulses. "
   ]
  },
  {
   "cell_type": "markdown",
   "metadata": {},
   "source": [
    "<figure>\n",
    "   <img src=\"img/grating_general.png\"width=\"45%\"> \n",
    "  <figcaption>**Fig.:** \n",
    "  </figcaption>\n",
    "</figure>"
   ]
  },
  {
   "cell_type": "markdown",
   "metadata": {},
   "source": [
    "<figure>\n",
    "   <img src=\"img/grating_slit_width.png\"width=\"90%\"> \n",
    "  <figcaption>**Fig.:** \n",
    "  </figcaption>\n",
    "</figure>"
   ]
  },
  {
   "cell_type": "markdown",
   "metadata": {},
   "source": [
    "<figure>\n",
    "   <img src=\"img/grating_slit_number.png\"width=\"90%\"> \n",
    "  <figcaption>**Fig.:** \n",
    "  </figcaption>\n",
    "</figure>"
   ]
  },
  {
   "cell_type": "markdown",
   "metadata": {},
   "source": [
    "<figure>\n",
    "   <img src=\"img/grating_resolution.png\"width=\"95%\"> \n",
    "  <figcaption>**Fig.:** \n",
    "  </figcaption>\n",
    "</figure>"
   ]
  }
 ],
 "metadata": {
  "kernelspec": {
   "display_name": "Python 3",
   "language": "python",
   "name": "python3"
  },
  "language_info": {
   "codemirror_mode": {
    "name": "ipython",
    "version": 3
   },
   "file_extension": ".py",
   "mimetype": "text/x-python",
   "name": "python",
   "nbconvert_exporter": "python",
   "pygments_lexer": "ipython3",
   "version": "3.8.5"
  },
  "toc-autonumbering": false,
  "toc-showmarkdowntxt": false,
  "toc-showtags": false
 },
 "nbformat": 4,
 "nbformat_minor": 4
}
