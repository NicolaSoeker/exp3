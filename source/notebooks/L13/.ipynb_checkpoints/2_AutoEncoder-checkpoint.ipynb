{
 "cells": [
  {
   "cell_type": "markdown",
   "metadata": {},
   "source": [
    "# Autoencoder for Timeseries Denoising"
   ]
  },
  {
   "cell_type": "markdown",
   "metadata": {},
   "source": [
    "This is an deep convolutional autoencoder for denoising. It's pupose is to denoise timeseries data. This may also help to detect sudden signal changes in the data. I will provide an additional notebook, where the sudden changes in the rotational diffusion behavior are addressed."
   ]
  },
  {
   "cell_type": "markdown",
   "metadata": {},
   "source": [
    "## Data Generation\n"
   ]
  },
  {
   "cell_type": "code",
   "execution_count": null,
   "metadata": {},
   "outputs": [],
   "source": [
    "import matplotlib.pyplot as plt\n",
    "import numpy as np"
   ]
  },
  {
   "cell_type": "code",
   "execution_count": 409,
   "metadata": {},
   "outputs": [],
   "source": [
    "data_len=784"
   ]
  },
  {
   "cell_type": "code",
   "execution_count": 410,
   "metadata": {},
   "outputs": [],
   "source": [
    "x_val_noisy=np.zeros(data_len)\n",
    "noisy_sample=np.zeros(data_len)\n",
    "pure_sample=np.zeros(data_len)"
   ]
  },
  {
   "cell_type": "code",
   "execution_count": 411,
   "metadata": {},
   "outputs": [],
   "source": [
    "y_val_noisy_r = []\n",
    "y_val_pure_r = []\n",
    "x_val_noisy=np.arange(0,data_len)\n",
    "\n",
    "for i in range(100000):\n",
    "    #split=np.random.randint(10,data_len-10)   \n",
    "    #noisy_sample[0:split]=np.abs(np.random.normal(0,1,split))\n",
    "    #noisy_sample[split:]=np.abs(5*np.random.normal(0,1,data_len-split))\n",
    "    pure_sample=np.sin(10*np.pi*x_val_noisy/data_len+np.random.randint(100))\n",
    "    noisy_sample=pure_sample+np.random.normal(0,1,data_len)\n",
    "    pure_sample=(pure_sample-np.min(noisy_sample))/(np.max(noisy_sample) - np.min(noisy_sample))\n",
    "    noisy_sample = (noisy_sample - np.min(noisy_sample)) / (np.max(noisy_sample) - np.min(noisy_sample))\n",
    "    \n",
    "    #pure_sample[0:split]=np.mean(noisy_sample[0:split])\n",
    "    #pure_sample[split:]=np.mean(noisy_sample[split:])\n",
    "    \n",
    "\n",
    "    \n",
    "    tmp_n=np.copy(noisy_sample.reshape(28,28))\n",
    "    tmp_p=np.copy(pure_sample.reshape(28,28))\n",
    "    #plt.subplot(10,1,i+1)\n",
    "    #plt.plot(tmp_n.reshape(10000,1))\n",
    "    y_val_noisy_r.append(tmp_n)\n",
    "    y_val_pure_r.append(tmp_p)\n",
    "    \n",
    "    \n",
    "y_val_noisy_r   = np.array(y_val_noisy_r)\n",
    "y_val_pure_r    = np.array(y_val_pure_r)\n",
    "noisy_input     = y_val_noisy_r.reshape((y_val_noisy_r.shape[0], y_val_noisy_r.shape[1], y_val_noisy_r.shape[2], 1))\n",
    "pure_input      = y_val_pure_r.reshape((y_val_pure_r.shape[0], y_val_pure_r.shape[1], y_val_pure_r.shape[2], 1))    "
   ]
  },
  {
   "cell_type": "code",
   "execution_count": 362,
   "metadata": {},
   "outputs": [
    {
     "data": {
      "text/plain": [
       "[<matplotlib.lines.Line2D at 0x7fbd84954dd0>]"
      ]
     },
     "execution_count": 362,
     "metadata": {},
     "output_type": "execute_result"
    },
    {
     "data": {
      "image/png": "[encoded data removed]",
      "text/plain": [
       "<Figure size 432x288 with 1 Axes>"
      ]
     },
     "metadata": {
      "needs_background": "light"
     },
     "output_type": "display_data"
    }
   ],
   "source": [
    "n=np.random.randint(10000)\n",
    "plt.plot(y_val_pure_r[n].reshape(data_len,1),'k')\n",
    "plt.plot(y_val_noisy_r[n].reshape(data_len,1),'k',alpha=0.2)"
   ]
  },
  {
   "cell_type": "markdown",
   "metadata": {},
   "source": [
    "## Autoencoder\n",
    "\n",
    "This creates an autoencoder. Two convolutional layers for the encoding and two for decoding."
   ]
  },
  {
   "cell_type": "code",
   "execution_count": 394,
   "metadata": {},
   "outputs": [],
   "source": [
    "import keras\n",
    "from keras.models import Sequential\n",
    "from keras.layers import Conv2D, Conv2DTranspose, MaxPooling2D, UpSampling2D\n",
    "from keras.constraints import max_norm\n",
    "import matplotlib.pyplot as plt\n",
    "import numpy as np\n",
    "import math\n",
    "import tensorflow as tf\n",
    "from keras.optimizers import RMSprop\n",
    "\n",
    "from keras.backend.tensorflow_backend import set_session\n",
    "from keras import backend as K\n",
    "\n",
    "config = tf.ConfigProto()\n",
    "config.gpu_options.visible_device_list = \"0\" # Change to \"1\" to use 2nd GPU\n",
    "config.gpu_options.per_process_gpu_memory_fraction = 0.8\n",
    "set_session(tf.Session(config=config))"
   ]
  },
  {
   "cell_type": "code",
   "execution_count": 364,
   "metadata": {},
   "outputs": [
    {
     "data": {
      "text/plain": [
       "['/job:localhost/replica:0/task:0/device:GPU:0']"
      ]
     },
     "execution_count": 364,
     "metadata": {},
     "output_type": "execute_result"
    }
   ],
   "source": [
    "# Check available GPUs\n",
    "K.tensorflow_backend._get_available_gpus()"
   ]
  },
  {
   "cell_type": "code",
   "execution_count": 412,
   "metadata": {},
   "outputs": [],
   "source": [
    "# Model configuration\n",
    "width, height = 28, 28\n",
    "input_shape = (width, height, 1)\n",
    "batch_size = 150\n",
    "no_epochs = 5\n",
    "train_test_split = 0.3\n",
    "validation_split = 0.2"
   ]
  },
  {
   "cell_type": "code",
   "execution_count": 413,
   "metadata": {},
   "outputs": [],
   "source": [
    "# Train/test split\n",
    "percentage_training = math.floor((1 - train_test_split) * len(noisy_input))\n",
    "noisy_input, noisy_input_test = noisy_input[:percentage_training], noisy_input[percentage_training:]\n",
    "pure_input, pure_input_test = pure_input[:percentage_training], pure_input[percentage_training:]"
   ]
  },
  {
   "cell_type": "markdown",
   "metadata": {},
   "source": [
    "### Encoder/Decoder Definition"
   ]
  },
  {
   "cell_type": "code",
   "execution_count": 417,
   "metadata": {},
   "outputs": [
    {
     "name": "stdout",
     "output_type": "stream",
     "text": [
      "_________________________________________________________________\n",
      "Layer (type)                 Output Shape              Param #   \n",
      "=================================================================\n",
      "conv2d_169 (Conv2D)          (None, 28, 28, 32)        320       \n",
      "_________________________________________________________________\n",
      "max_pooling2d_41 (MaxPooling (None, 14, 14, 32)        0         \n",
      "_________________________________________________________________\n",
      "conv2d_170 (Conv2D)          (None, 14, 14, 64)        18496     \n",
      "_________________________________________________________________\n",
      "max_pooling2d_42 (MaxPooling (None, 7, 7, 64)          0         \n",
      "_________________________________________________________________\n",
      "conv2d_171 (Conv2D)          (None, 7, 7, 128)         73856     \n",
      "_________________________________________________________________\n",
      "conv2d_172 (Conv2D)          (None, 7, 7, 128)         147584    \n",
      "_________________________________________________________________\n",
      "up_sampling2d_41 (UpSampling (None, 14, 14, 128)       0         \n",
      "_________________________________________________________________\n",
      "conv2d_173 (Conv2D)          (None, 14, 14, 64)        73792     \n",
      "_________________________________________________________________\n",
      "up_sampling2d_42 (UpSampling (None, 28, 28, 64)        0         \n",
      "_________________________________________________________________\n",
      "conv2d_174 (Conv2D)          (None, 28, 28, 1)         577       \n",
      "=================================================================\n",
      "Total params: 314,625\n",
      "Trainable params: 314,625\n",
      "Non-trainable params: 0\n",
      "_________________________________________________________________\n"
     ]
    }
   ],
   "source": [
    "model=Sequential()\n",
    "\n",
    "#encoder\n",
    "model.add(Conv2D(32, kernel_size=(3, 3), activation='relu', input_shape=input_shape,padding='same'))\n",
    "model.add(MaxPooling2D(pool_size=(2, 2)))\n",
    "model.add(Conv2D(64, kernel_size=(3, 3), activation='relu',padding='same')) \n",
    "model.add(MaxPooling2D(pool_size=(2, 2)))          \n",
    "model.add(Conv2D(128, kernel_size=(3, 3), activation='relu',padding='same'))\n",
    "          \n",
    "#decoder\n",
    "model.add(Conv2D(128, (3, 3), activation='relu',padding='same'))\n",
    "model.add(UpSampling2D((2,2)))          \n",
    "model.add(Conv2D(64, (3, 3), activation='relu',padding='same'))\n",
    "model.add(UpSampling2D((2,2)))          \n",
    "model.add(Conv2D(1, kernel_size=(3, 3), kernel_constraint=max_norm(max_norm_value), activation='relu', padding='same'))      \n",
    "\n",
    "model.summary()"
   ]
  },
  {
   "cell_type": "code",
   "execution_count": 418,
   "metadata": {},
   "outputs": [
    {
     "name": "stdout",
     "output_type": "stream",
     "text": [
      "Train on 56000 samples, validate on 14000 samples\n",
      "Epoch 1/5\n",
      "56000/56000 [==============================] - 9s 160us/step - loss: 0.0994 - val_loss: 0.0038\n",
      "Epoch 2/5\n",
      "56000/56000 [==============================] - 8s 140us/step - loss: 0.0027 - val_loss: 0.0014\n",
      "Epoch 3/5\n",
      "56000/56000 [==============================] - 8s 140us/step - loss: 0.0017 - val_loss: 0.0012\n",
      "Epoch 4/5\n",
      "56000/56000 [==============================] - 8s 140us/step - loss: 0.0013 - val_loss: 3.7990e-04\n",
      "Epoch 5/5\n",
      "56000/56000 [==============================] - 8s 140us/step - loss: 0.0011 - val_loss: 5.9955e-04\n"
     ]
    },
    {
     "data": {
      "text/plain": [
       "<keras.callbacks.History at 0x7fbc8829bc90>"
      ]
     },
     "execution_count": 418,
     "metadata": {},
     "output_type": "execute_result"
    }
   ],
   "source": [
    "# Compile and fit data\n",
    "model.compile(optimizer=RMSprop(), loss='mean_squared_error')\n",
    "model.fit(noisy_input, pure_input,\n",
    "                epochs=no_epochs,\n",
    "                batch_size=batch_size,\n",
    "                validation_split=validation_split)"
   ]
  },
  {
   "cell_type": "markdown",
   "metadata": {},
   "source": [
    "## Reconstruction of the Data"
   ]
  },
  {
   "cell_type": "code",
   "execution_count": 435,
   "metadata": {},
   "outputs": [],
   "source": [
    "# Generate reconstructions\n",
    "num_reconstructions = 2000\n",
    "samples = noisy_input_test[:num_reconstructions]\n",
    "reconstructions = model.predict(samples)"
   ]
  },
  {
   "cell_type": "code",
   "execution_count": 446,
   "metadata": {},
   "outputs": [
    {
     "data": {
      "text/plain": [
       "[<matplotlib.lines.Line2D at 0x7fbc73191350>]"
      ]
     },
     "execution_count": 446,
     "metadata": {},
     "output_type": "execute_result"
    },
    {
     "data": {
      "image/png": "[encoded data removed]",
      "text/plain": [
       "<Figure size 432x288 with 1 Axes>"
      ]
     },
     "metadata": {
      "needs_background": "light"
     },
     "output_type": "display_data"
    }
   ],
   "source": [
    "n=np.random.randint(num_reconstructions)\n",
    "plt.plot(samples[n].reshape(data_len,1),'k',alpha=0.1)\n",
    "#plt.plot(y_val_noisy_r[n].reshape(data_len,1),'k',alpha=0.2)\n",
    "plt.plot(reconstructions[n].reshape(data_len,1),'b',alpha=1)"
   ]
  },
  {
   "cell_type": "code",
   "execution_count": null,
   "metadata": {},
   "outputs": [],
   "source": []
  }
 ],
 "metadata": {
  "kernelspec": {
   "display_name": "Python 3",
   "language": "python",
   "name": "python3"
  },
  "language_info": {
   "codemirror_mode": {
    "name": "ipython",
    "version": 3
   },
   "file_extension": ".py",
   "mimetype": "text/x-python",
   "name": "python",
   "nbconvert_exporter": "python",
   "pygments_lexer": "ipython3",
   "version": "3.7.4"
  }
 },
 "nbformat": 4,
 "nbformat_minor": 2
}
