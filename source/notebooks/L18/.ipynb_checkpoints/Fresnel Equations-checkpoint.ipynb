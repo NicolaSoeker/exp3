{
 "cells": [
  {
   "cell_type": "markdown",
   "metadata": {},
   "source": [
    "# Fresnel Equations"
   ]
  },
  {
   "cell_type": "markdown",
   "metadata": {},
   "source": [
    "<style>\n",
    "figure {\n",
    "  border: 1px #cccccc solid;\n",
    "  padding: 4px; \n",
    "  display: block;\n",
    "  margin-left: auto;\n",
    "  margin-right: auto;\n",
    "}\n",
    "\n",
    "figcaption {\n",
    "  background-color: #eeeeee;\n",
    "  color: black;\n",
    "  padding: 2px;\n",
    "}\n",
    "</style>"
   ]
  },
  {
   "cell_type": "markdown",
   "metadata": {},
   "source": [
    "In the last lecture, we have discussed the mathcing of the frequency and the wavevector at an interface between the two materials. We no also need to have a look at the matching of the electric field amplitudes at the boundaries. "
   ]
  },
  {
   "cell_type": "markdown",
   "metadata": {},
   "source": [
    "## Reflection"
   ]
  },
  {
   "cell_type": "markdown",
   "metadata": {},
   "source": [
    "**s-polarized light**"
   ]
  },
  {
   "cell_type": "markdown",
   "metadata": {},
   "source": [
    "We would first like to have a look at light that is polarized perpendicular to the incident plane - so-called spolarized light.\n",
    "According to our previous definition, s-polarized light is directed along the y-axis of our coordinate system. The incident light amplitude\n",
    "is therefore written as\n",
    "\n",
    "$$\n",
    "\\vec{E}_I=E_I\\hat{e}_y\n",
    "$$\n",
    "\n",
    "This electric field vector is perpendicular to the plane of incidence. With this polarization the reflected and the refracted electric field also have to have this polarizations and thus\n",
    "\n",
    "$$\n",
    "\\vec{E}_R=E_{R}\\hat{e}_y\n",
    "$$\n",
    "\n",
    "and\n",
    "\n",
    "$$\n",
    "\\vec{E}_T=E_{T}\\hat{e}_y\n",
    "$$\n",
    "\n",
    "From this it also follows that at the boundary, the incident and the reflected field must be the same as the transmitted field in our matching condition. This is due to the fact that s-polarized light it always parallel to the interface. \n",
    "\n",
    "$$\n",
    "E_I+E_R=E_T\n",
    "\\tag{matching}\n",
    "$$\n",
    "\n",
    "The magnetic field lies then in the plane of incidence as it is perpendicular to $\\vec{k}_I$ and $\\vec{E}_I$. It has components parallel $||$ and perpendicular $\\perp$ to the interface. The tangential components as well as the perpendicular ones are conserved so we can write for the tangential ones\n",
    "\n",
    "$$\n",
    "B_I\\cos(\\theta_I)-B_R\\cos(\\theta_R)=B_T\\cos(\\theta_T)\n",
    "$$\n",
    "\n",
    "Given the fact that \n",
    "\n",
    "$$\n",
    "\\vec{B}=\\frac{1}{v}(\\hat{v}\\times \\vec{E})\n",
    "$$\n",
    "\n",
    "and that all three vectors are orthogonal we can use the relation $B=E/v$ for the magnetic and electric field amplitudes and  $\\theta_I=\\theta_R$ to obtain\n",
    "\n",
    "$$\n",
    "\\frac{E_I-E_r}{v_1}\\cos(\\theta_I)=\\frac{E_T}{v_2}\\cos(\\theta_T)\n",
    "$$\n",
    "\n",
    "With the help of the condition *matching* above we can replace the transmitted electric field $E_T$ and using $v_1=c/n_1$ and $v_2=c/n_2$ we finally find\n",
    "\n",
    "$$\n",
    "\\frac{E_R}{E_I}=\\frac{n_1\\cos(\\theta_I)-n_2\\cos(\\theta_T)}{n_1\\cos(\\theta_I)+n_2\\cos(\\theta_T)}=r_s\n",
    "$$\n",
    "\n",
    "This is the **Fresnel coefficient for the reflection of s-polarized light** $r_s$. If we replace not the transmitted but the refletec electric field in the formula above, we may obtain the **Fresnel coefficient for the transmission of s-polarized light** $t_s$\n",
    "\n",
    "$$\n",
    "\\frac{E_T}{E_I}=\\frac{2n_1\\cos(\\theta_I)}{n_1\\cos(\\theta_I)+n_2\\cos(\\theta_T)}=t_s\n",
    "$$\n"
   ]
  },
  {
   "cell_type": "markdown",
   "metadata": {},
   "source": [
    "**p-polarized light**\n",
    "\n",
    "If the electric field is parallel to the plane of incidence, the we need to split it into parallel $||$ and perpendicular $\\perp$ components. The incident field may be written as\n",
    "\n",
    "$$\n",
    "\\vec{E}_I=-E_I\\sin(\\theta_I)\\hat{e}_x+E_I\\cos(\\theta_I)\\hat{e}_z\n",
    "$$\n",
    "\n",
    "where $\\hat{e}_z$ and $\\hat{e}_x$ are the unit vectors in the z- and x-direction, respectively. The first term is the normal component to the boundary and the second the parallel component. We may pick our the parallel part, for which we know that the electric field is just continuous across the interface.\n",
    "\n",
    "$$\n",
    "E_I\\cos(\\theta_I)+E_R\\cos(\\theta_R)=E_T\\cos(\\theta_T)\n",
    "$$\n",
    "\n",
    "Now the magnetic field is perpendicular to the plane of incidence and we may write\n",
    "\n",
    "$$\n",
    "B_I-B_R=B_T\n",
    "$$\n",
    "\n",
    "for the matching condition of the magnetic field. From this follows that \n",
    "\n",
    "$$\n",
    "\\frac{E_I-E_R}{v_1}=\\frac{E_T}{v_2}\n",
    "$$\n",
    "\n",
    "We may now replace again the transmitted field, which results finally in the **Fresnel coefficient for the reflection of p-polarized light** $r_p$\n",
    "\n",
    "$$\n",
    "\\frac{E_R}{E_I}=\\frac{n_2\\cos(\\theta_I)-n_1\\cos(\\theta_T)}{n_1\\cos(\\theta_T)+n_2\\cos(\\theta_I)}=r_p\n",
    "$$\n",
    "\n",
    "Finally, we may also do the same for the **Fresnel coefficient of the transmission of p-polarized light** $t_p$\n",
    "\n",
    "$$\n",
    "\\frac{E_T}{E_I}=\\frac{2n_1\\cos(\\theta_I)}{n_1\\cos(\\theta_T)+n_2\\cos(\\theta_I)}=t_p\n",
    "$$\n"
   ]
  },
  {
   "cell_type": "markdown",
   "metadata": {},
   "source": [
    "<div class=\"alert alert-info\">\n",
    "\n",
    "**Fresnel Equations**\n",
    "\n",
    "The Fresnel equations give the relations for the amplitude of the transmitted and reflected electric fields to the incident electric field amplitude as a function of the angle of incident and the light polarization.\n",
    "    \n",
    "**s-polarization**\n",
    "    \n",
    "$$\n",
    "\\frac{E_R}{E_I}=\\frac{n_1\\cos(\\theta_I)-n_2\\cos(\\theta_T)}{n_1\\cos(\\theta_I)+n_2\\cos(\\theta_T)}=r_s\n",
    "\\tag{Fresnel Coefficient $r_s$}\n",
    "$$\n",
    "\n",
    "$$\n",
    "\\frac{E_T}{E_I}=\\frac{2n_1\\cos(\\theta_I)}{n_1\\cos(\\theta_I)+n_2\\cos(\\theta_T)}=t_s\n",
    "\\tag{Fresnel Coefficient $t_s$}\n",
    "$$\n",
    "\n",
    "    \n",
    "**p-polarization**\n",
    "    \n",
    "$$\n",
    "\\frac{E_R}{E_I}=\\frac{n_2\\cos(\\theta_I)-n_1\\cos(\\theta_T)}{n_1\\cos(\\theta_T)+n_2\\cos(\\theta_I)}=r_p\n",
    "\\tag{Fresnel Coefficient $r_p$}\n",
    "$$\n",
    "    \n",
    "$$\n",
    "\\frac{E_T}{E_I}=\\frac{2n_1\\cos(\\theta_I)}{n_1\\cos(\\theta_T)+n_2\\cos(\\theta_I)}=t_p\n",
    "\\tag{Fresnel Coefficient $t_p$}\n",
    "$$    \n",
    "    \n",
    "</div>"
   ]
  },
  {
   "cell_type": "markdown",
   "metadata": {},
   "source": [
    "### Air to Glass "
   ]
  },
  {
   "cell_type": "markdown",
   "metadata": {},
   "source": [
    "Lets discuss the results we obtained with the help of specifc examples. We will consider the interface between air ($n_1=1$) and glass ($n_2=1.5$) and vary the angle of incidence. The transmission angle can the be obtained from Snell's law $n_1\\sin(\\theta_I)=n_2\\sin(\\theta_T)$. Besides the Frensel coefficients, we plot also the phase. This phase gives us an idea about possible phase changes upon reflection and refraction. We have previously assume for example, that under normal incidence we obtain a phase jump of $\\pi$ upon reflection when coming from air to glass. This is something we may check now. \n",
    "\n",
    "To do so, we just represent the complex Fresnel coefficients as $r_s=|r_s|e^{i\\phi}$"
   ]
  },
  {
   "cell_type": "markdown",
   "metadata": {},
   "source": [
    "<figure>\n",
    "      <img src=\"img/reflection_air_glass.png\" width=\"90%\">\n",
    "  <figcaption>**Fig.:** Fresnel coefficients (left) and phase (right) of the reflected light observed for the reflection at an air($n_1=1$)/glass($n_2=1.5$) interface. \n",
    "  </figcaption>\n",
    "</figure>"
   ]
  },
  {
   "cell_type": "markdown",
   "metadata": {},
   "source": [
    "The above graph displays the reflection coefficients $r_s,r_p$ as a function of the angle of incidence. The value of $r_s$ is negative for the whole range indicating the there is a phase jump by an angle of $\\pi$ as we assumed already in the thin film interference section. This phase jump is also confirmed in the second plot on the right. \n",
    "Note that that reflection coefficient for the parallel polarization $r_p$ is positive up to an angle of about $56^{\\circ}$. This also means that there is no phase jump for this component up to this angle. Beyond this angle we find also a phase jump of $\\phi$. Note that normal incidence $\\theta_I=0$ is a special point, where all incident electric field are tangential to the interface. So also $r_p$ will be negative at that point and for this incident angle there is no plane of incidence definition.\n",
    "\n",
    "The special angle where the $r_p=0$ is called the **Brewster Angle**. It is special since at this angle of incidence unpolarized light will be turned into completely s-polarized light in reflection. This also means that you can get rid of a reflection from an air/glass interface, when observing this interface with a linear polarizer.\n",
    "\n"
   ]
  },
  {
   "cell_type": "markdown",
   "metadata": {},
   "source": [
    "<figure>\n",
    "      <img src=\"img/Brewster.png\" width=\"40%\">\n",
    "  <figcaption>**Fig.:** Reflections observed with linear polarizer.\n",
    "  </figcaption>\n",
    "</figure>"
   ]
  },
  {
   "cell_type": "markdown",
   "metadata": {},
   "source": [
    "Following the Fresnel formula for $r_p$, the reflection coefficient becomes zero when $n_2\\cos(\\theta_I)=n_1\\cos(\\theta_T)$. Using Snells law as well, we find that \n",
    "\n",
    "$$\n",
    "\\theta_I+\\theta_T=\\frac{\\pi}{2}\n",
    "$$\n",
    "\n",
    "and thus the following definition for the Brewster angle ($\\theta_B$)\n",
    "\n",
    "$$\n",
    "\\tan(\\theta_B)=\\frac{n_2}{n_1}\n",
    "$$\n",
    "\n",
    "The Brewster angle arises from the fact that the dipoles which are induced by the incident light in the material oscillate along the direction of the reflected light. We will see later that dipoles do not emit light along its oscillation direction and hence, there is no reflection for the in plane polarization. \n",
    "\n",
    "\n"
   ]
  },
  {
   "cell_type": "markdown",
   "metadata": {},
   "source": [
    "<div class=\"alert alert-info\">\n",
    "\n",
    "**Brewster Angle**\n",
    "\n",
    "The Brewster angle is the angle under which the reflection of light with a polarization in the plane of incidence vanishes.\n",
    "    \n",
    "$$\n",
    "\\tan(\\theta_B)=\\frac{n_2}{n_1}\n",
    "$$\n",
    "\n",
    "\n",
    "\n",
    "    \n",
    "</div>"
   ]
  },
  {
   "cell_type": "markdown",
   "metadata": {},
   "source": [
    "### Glass to Air"
   ]
  },
  {
   "cell_type": "markdown",
   "metadata": {},
   "source": [
    "If we invert the order of the materials and have light incindent to a glass/air interface we observe a new effect in the reflection of light. First of all the p-polarization obtains now a phase shift by $pi$ up to the Brewster angle, which is now at $33^{\\circ}$, when it gets back in phase with the incident light. The s-polarized light has no phase jump at the interface, yet both components reach a magnitude of $1$ at the critical angle of total internal reflection $\\theta_C$. Starting from this incident angle, all light is reflected by the glass/air interface. As we know from the geometrical optics, the angle of total internal reflection is obtained when the transmission angle becomes $90^{\\circ}$.\n",
    "\n",
    "$$\n",
    "\\sin(\\theta_C)=\\frac{n_2}{n_1}\n",
    "\\tag{$n_2<n_1$}\n",
    "$$\n",
    "\n",
    "For the glass/air interface as shown below, this total internal reflection occurs for an angle $\\theta_C=41.8^{\\circ}$. While the magnitude of the reflections coefficient is then $1$, the phase of the reflected light changes continuously from $0^{\\circ}$ to $90^{\\circ}$."
   ]
  },
  {
   "cell_type": "markdown",
   "metadata": {},
   "source": [
    "<figure>\n",
    "      <img src=\"img/reflection_glass_air.png\" width=\"90%\">\n",
    "  <figcaption>**Fig.:** \n",
    "  </figcaption>\n",
    "</figure>\n"
   ]
  },
  {
   "cell_type": "markdown",
   "metadata": {},
   "source": [
    "What is interesting for the total internal reflection is now the electric field that exists in the case of the "
   ]
  },
  {
   "cell_type": "markdown",
   "metadata": {},
   "source": [
    "## Transmission"
   ]
  },
  {
   "cell_type": "markdown",
   "metadata": {},
   "source": [
    "### Air to Glass"
   ]
  },
  {
   "cell_type": "markdown",
   "metadata": {},
   "source": [
    "<figure>\n",
    "      <img src=\"img/transmission_air_glass.png\" width=\"90%\">\n",
    "  <figcaption>**Fig.:** \n",
    "  </figcaption>\n",
    "</figure>"
   ]
  },
  {
   "cell_type": "markdown",
   "metadata": {},
   "source": [
    "### Glass to Air"
   ]
  },
  {
   "cell_type": "markdown",
   "metadata": {},
   "source": [
    "<figure>\n",
    "      <img src=\"img/transmission_glass_air.png\" width=\"90%\">\n",
    "  <figcaption>**Fig.:** \n",
    "  </figcaption>\n",
    "</figure>"
   ]
  }
 ],
 "metadata": {
  "kernelspec": {
   "display_name": "Python 3",
   "language": "python",
   "name": "python3"
  },
  "language_info": {
   "codemirror_mode": {
    "name": "ipython",
    "version": 3
   },
   "file_extension": ".py",
   "mimetype": "text/x-python",
   "name": "python",
   "nbconvert_exporter": "python",
   "pygments_lexer": "ipython3",
   "version": "3.8.5"
  },
  "toc-autonumbering": true,
  "toc-showmarkdowntxt": false,
  "toc-showtags": false
 },
 "nbformat": 4,
 "nbformat_minor": 4
}
