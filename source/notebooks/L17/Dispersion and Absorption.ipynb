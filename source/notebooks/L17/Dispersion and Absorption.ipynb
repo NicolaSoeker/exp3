{
 "cells": [
  {
   "cell_type": "markdown",
   "metadata": {},
   "source": [
    "# Dispersion and Absorption"
   ]
  },
  {
   "cell_type": "markdown",
   "metadata": {},
   "source": [
    "<style>\n",
    "figure {\n",
    "  border: 1px #cccccc solid;\n",
    "  padding: 4px; \n",
    "  display: block;\n",
    "  margin-left: auto;\n",
    "  margin-right: auto;\n",
    "}\n",
    "\n",
    "figcaption {\n",
    "  background-color: #eeeeee;\n",
    "  color: black;\n",
    "  padding: 2px;\n",
    "}\n",
    "</style>"
   ]
  },
  {
   "cell_type": "markdown",
   "metadata": {},
   "source": [
    "We would like to have a closer look at what happens with our atom in the electric field of a light wave. First of all, our toy atom is very small (around 0.1 nm) which is much smaller than the wavelength of ligth (500 nm). Thus the electric field appears to homogeneous over the cross section of the atom and seems to change over time with $E(t)=E_0 e^{-i\\omega t}$."
   ]
  },
  {
   "cell_type": "markdown",
   "metadata": {},
   "source": [
    "<figure>\n",
    "      <img src=\"img/polarization.png\" width=\"60%\">\n",
    "  <figcaption>**Fig.:** Polarization of an electric cloud of an atom.\n",
    "  </figcaption>\n",
    "</figure>"
   ]
  },
  {
   "cell_type": "markdown",
   "metadata": {},
   "source": [
    "Lets assume the electric field being aligned with the x-direction, then we can write down the equation of motion for the displacement of the two charges in the atom\n",
    "\n",
    "$$\n",
    "\\ddot{x}+\\sigma\\dot{x}+\\omega_0x=\\frac{q}{m}E(t)\n",
    "$$\n",
    "\n",
    "which is the equation of motion for a damped driven harmonic oscillator. Using our knowledge from the mechanical oscillator and the drivig electric field, we can use a solution\n",
    "\n",
    "$$\n",
    "x(t)=x_0 e^{-i\\omega t}\n",
    "$$\n",
    "\n",
    "and insert that into the equation of motion to get the amplitude $x_0$. This yields\n",
    "\n",
    "$$\n",
    "x(t)=\\frac{1}{\\omega_0^2-i\\omega\\sigma-\\omega^2}\\frac{q}{m}E(t)\n",
    "$$\n",
    "\n",
    "This time dependent displacement creates a dipole moment $p=q x(t)=\\alpha E(t)$. Here $\\alpha$ is the electronic polarizability of the atom. With the help of the dipole moment we can calculate the polarization density \n",
    "\n",
    "$$\n",
    "P=Nq\\frac{1}{\\omega_0^2-i\\omega\\sigma-\\omega^2}\\frac{q}{m}E(t)=\\epsilon_0\\chi E(t)\n",
    "$$\n",
    "\n",
    "from which we may infer the electronic suceptibility\n",
    "\n",
    "$$\n",
    "\\chi=\\chi_0\\frac{1}{\\omega_0^2-i\\omega\\sigma-\\omega^2}\n",
    "$$\n",
    "\n",
    "with \n",
    "\n",
    "$$\n",
    "\\chi_0=\\frac{q^2N}{m\\epsilon_0}\n",
    "$$\n",
    "\n",
    "The susceptibility is therefore a complex number, which may write as $\\chi=\\chi^{'}+i\\chi^{\"}$. From this it also directly follows that the dielectric function $\\epsilon_r=1+\\chi$ is a complex number and the refractive index as well."
   ]
  },
  {
   "cell_type": "markdown",
   "metadata": {},
   "source": [
    "For the refractive index we can therefore write\n",
    "\n",
    "$$\n",
    "n=n_r-i\\kappa=\\sqrt{\\epsilon_r}=\\sqrt{1+\\chi}\n",
    "$$\n",
    "\n",
    "where the minus sign between the real and imaginary part is a definition and sometimes handled differently. For the refractive index we may therefore write\n",
    "\n",
    "$$\n",
    "n=1+\\frac{Nq^2}{2\\epsilon_0 m}\\frac{(\\omega_0^2-\\omega^2)-i\\sigma\\omega}{(\\omega_0^2-\\omega^2)^2+\\omega^2\\sigma^2}=n-i\\kappa\n",
    "$$"
   ]
  },
  {
   "cell_type": "markdown",
   "metadata": {},
   "source": [
    "The refractive index therefore has a real and imaginary part, which we can derive from the above formuala. We would like to a have a look at the consequences of those two coefficients $n_r,\\kappa$ for the propagation of the light wave."
   ]
  },
  {
   "cell_type": "markdown",
   "metadata": {},
   "source": [
    "## Absorption"
   ]
  },
  {
   "cell_type": "markdown",
   "metadata": {},
   "source": [
    "We will first analyze the effect of $\\kappa$, which is the imaginary part of the refractive index.\n",
    "\n",
    "$$\n",
    "E(z)=Ee^{ik z}=E_0e^{-in k_0 z}\n",
    "$$"
   ]
  },
  {
   "cell_type": "markdown",
   "metadata": {},
   "source": [
    "## Dispersion"
   ]
  }
 ],
 "metadata": {
  "kernelspec": {
   "display_name": "Python 3",
   "language": "python",
   "name": "python3"
  },
  "language_info": {
   "codemirror_mode": {
    "name": "ipython",
    "version": 3
   },
   "file_extension": ".py",
   "mimetype": "text/x-python",
   "name": "python",
   "nbconvert_exporter": "python",
   "pygments_lexer": "ipython3",
   "version": "3.8.5"
  },
  "toc-autonumbering": true,
  "toc-showmarkdowntxt": false,
  "toc-showtags": false
 },
 "nbformat": 4,
 "nbformat_minor": 4
}
