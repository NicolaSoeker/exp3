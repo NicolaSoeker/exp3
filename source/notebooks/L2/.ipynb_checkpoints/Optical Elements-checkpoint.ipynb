{
 "cells": [
  {
   "cell_type": "markdown",
   "metadata": {},
   "source": [
    "## Optical Elements"
   ]
  },
  {
   "cell_type": "markdown",
   "metadata": {},
   "source": [
    "### Plane Mirrors"
   ]
  },
  {
   "cell_type": "markdown",
   "metadata": {},
   "source": [
    "If a point $P$ send out light that is reflected on a mirror as depicted in the image below, the rays reflected from the mirror diverge, but appear to originate from a point $P^\\prime$ behind the mirror. The distance of this image point from the mirror is the same as the one of the object point from the mirror due to the reflection law. An observer, who would thus collect all the reflected rays and image them e.g. onto the retina of his eye will see the point behind the mirror. "
   ]
  },
  {
   "cell_type": "markdown",
   "metadata": {},
   "source": [
    "![mirror](img/plane_mirror.png)"
   ]
  },
  {
   "cell_type": "markdown",
   "metadata": {},
   "source": [
    "If now many point of an object emit light towards the mirror then this is also true for all of the points and the whole object appears as an image behind the mirror. Consequently, the image has the same size than the object. Therefore the magnification defined as \n",
    "\n",
    "\\begin{equation}\n",
    "M=\\frac{h_{\\rm image}}{h_{\\rm object}}=1\n",
    "\\end{equation}"
   ]
  },
  {
   "cell_type": "markdown",
   "metadata": {},
   "source": [
    "![mirror](img/image_plane_mirror.png)"
   ]
  },
  {
   "cell_type": "markdown",
   "metadata": {},
   "source": [
    "### Concave Mirrors"
   ]
  },
  {
   "cell_type": "markdown",
   "metadata": {},
   "source": [
    "![concave mirror](img/concave_mirror.png)"
   ]
  },
  {
   "cell_type": "markdown",
   "metadata": {},
   "source": [
    "### Prisms"
   ]
  },
  {
   "cell_type": "markdown",
   "metadata": {},
   "source": [
    "Prisms are wedge shaped optical elements made of a transparent material as for example of glass. "
   ]
  }
 ],
 "metadata": {
  "kernelspec": {
   "display_name": "Python 3",
   "language": "python",
   "name": "python3"
  },
  "language_info": {
   "codemirror_mode": {
    "name": "ipython",
    "version": 3
   },
   "file_extension": ".py",
   "mimetype": "text/x-python",
   "name": "python",
   "nbconvert_exporter": "python",
   "pygments_lexer": "ipython3",
   "version": "3.8.5"
  }
 },
 "nbformat": 4,
 "nbformat_minor": 4
}
