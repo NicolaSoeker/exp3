{
 "cells": [
  {
   "cell_type": "markdown",
   "metadata": {},
   "source": [
    "## EXP3 Snippets - Refraction Explorer"
   ]
  },
  {
   "cell_type": "markdown",
   "metadata": {},
   "source": [
    "This is a small python code snippet, which you can explore on the *myBinder* service with the button on the top of this webpage. It shows the the refraction of a light ray (red) incident to an interface (horizontal line), which is then refracted. The interface is seperating two areas with different refractive index $n_1, n_2$, which you can modify with the sliders in the same way as the incident angle. The refractive index $n_2$ may even go negative and you may want to explore what happens then.\n",
    "\n",
    "(c) F. Cichos 2020"
   ]
  },
  {
   "cell_type": "code",
   "execution_count": 1,
   "metadata": {},
   "outputs": [],
   "source": [
    "%matplotlib widget\n",
    "import ipywidgets as widgets\n",
    "import matplotlib.pyplot as plt\n",
    "import numpy as np"
   ]
  },
  {
   "cell_type": "code",
   "execution_count": 2,
   "metadata": {},
   "outputs": [
    {
     "data": {
      "application/vnd.jupyter.widget-view+json": {
       "model_id": "b43b790d77634ee58012d816fa38ad7d",
       "version_major": 2,
       "version_minor": 0
      },
      "text/plain": [
       "Canvas(toolbar=Toolbar(toolitems=[('Home', 'Reset original view', 'home', 'home'), ('Back', 'Back to previous …"
      ]
     },
     "metadata": {},
     "output_type": "display_data"
    },
    {
     "data": {
      "application/vnd.jupyter.widget-view+json": {
       "model_id": "036ab4d7b45f43389a7793ddbcace0bd",
       "version_major": 2,
       "version_minor": 0
      },
      "text/plain": [
       "interactive(children=(FloatSlider(value=1.0, description='n1', max=2.0, min=1.0, step=0.01), FloatSlider(value…"
      ]
     },
     "metadata": {},
     "output_type": "display_data"
    }
   ],
   "source": [
    "fig, ax = plt.subplots(figsize=(4, 4))\n",
    "fig.canvas.header_visible = False\n",
    " \n",
    "@widgets.interact(n1=(1,2,0.01),n2=(-2,3,0.01), phi=(0, 90, 0.1))\n",
    "def update(n1=1,n2=1.5,phi=45):\n",
    "    \"\"\"Remove old lines from plot and plot new one\"\"\"\n",
    "    ax.cla()\n",
    "    theta1=phi*np.pi/180\n",
    "    if n1*np.sin(theta1)/n2<=1:\n",
    "        theta2=np.arcsin(n1*np.sin(theta1)/n2)\n",
    "    else:\n",
    "        theta2=-theta1+np.pi\n",
    "    ax.set_title(\"Refraction Explorer\")    \n",
    "    ax.axvline(x=0,ls='--')\n",
    "    ax.text(-0.04,0.04,r'$n_2$={}'.format(n2))\n",
    "    ax.text(-0.04,-0.04,r'$n_1$={}'.format(n1))\n",
    "    ax.text(0.03,0.04,r'$\\theta_2$={}'.format(round(theta2*180/np.pi),1))\n",
    "    ax.text(0.03,-0.04,r'$\\theta_1$={}'.format(round(theta1*180/np.pi),1))\n",
    "\n",
    "\n",
    "    ax.axhline(y=0,color='k',lw=0.5)\n",
    "    ax.quiver(0,0,np.sin(theta1),np.cos(theta1),scale=3,pivot='tip' ,color='red')\n",
    "    ax.quiver(0,0,np.sin(theta2),np.cos(theta2),scale=3,color='blue')\n"
   ]
  },
  {
   "cell_type": "markdown",
   "metadata": {},
   "source": [
    "![refraction](img/refraction_explorer.png)"
   ]
  }
 ],
 "metadata": {
  "kernelspec": {
   "display_name": "Python 3",
   "language": "python",
   "name": "python3"
  },
  "language_info": {
   "codemirror_mode": {
    "name": "ipython",
    "version": 3
   },
   "file_extension": ".py",
   "mimetype": "text/x-python",
   "name": "python",
   "nbconvert_exporter": "python",
   "pygments_lexer": "ipython3",
   "version": "3.8.5"
  }
 },
 "nbformat": 4,
 "nbformat_minor": 4
}
